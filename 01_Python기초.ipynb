{
  "nbformat": 4,
  "nbformat_minor": 0,
  "metadata": {
    "colab": {
      "provenance": [],
      "toc_visible": true,
      "authorship_tag": "ABX9TyPt1tsKpdncKSfJ1H3QCjDs",
      "include_colab_link": true
    },
    "kernelspec": {
      "name": "python3",
      "display_name": "Python 3"
    },
    "language_info": {
      "name": "python"
    }
  },
  "cells": [
    {
      "cell_type": "markdown",
      "metadata": {
        "id": "view-in-github",
        "colab_type": "text"
      },
      "source": [
        "<a href=\"https://colab.research.google.com/github/younglong61/Colab/blob/main/01_Python%EA%B8%B0%EC%B4%88.ipynb\" target=\"_parent\"><img src=\"https://colab.research.google.com/assets/colab-badge.svg\" alt=\"Open In Colab\"/></a>"
      ]
    },
    {
      "cell_type": "markdown",
      "source": [
        "# Python\n",
        "- 현존하는 가장 범용적인 개발 프로그래밍 언어\n",
        " - 웹 개발, 크롤링, 해킹...\n",
        " - 데이터사이언스, 머신러닝, 인공지능...\n",
        " - 아직 코딩을 어디에 써야할지 모른다면 Python으로 입문!\n",
        "- (상대적으로) 쉬운 문법 (≈ 영어)\n",
        " - 난이도: 기계어(machine language) > C언어 > Java > Python\n",
        "> Life is short. You need Python. (Bruce Eckel)\n",
        "- 많은 사용자로 인한 장점 (≈ 영어)\n",
        " - 구글링을 통해 가장 많은 질문과 답변을 찾을 수 있다\n",
        " - 다른 사람의 코드, 함수, 라이브러리를 가져다 쓸 수 있다\n",
        " - 다른 분야의 개발자와 소통할 수 있다\n",
        "- 컴퓨터와 대화하듯이 코드 라인 단위로 소통하는 인터프리터(interpreter) 언어\n",
        " - 컴파일러(compiler) 언어(예: C언어)에 비해 속도가 느림\n",
        "- Markdown을 통해 자체적으로 문서 작성 (<> 한글, 워드)\n"
      ],
      "metadata": {
        "id": "4OGemdS-rjPx"
      }
    },
    {
      "cell_type": "code",
      "source": [
        "1+1"
      ],
      "metadata": {
        "colab": {
          "base_uri": "https://localhost:8080/"
        },
        "id": "H08u8hBFzzeb",
        "outputId": "b075b5a5-7cea-4d25-b842-bbb7152951c5"
      },
      "execution_count": null,
      "outputs": [
        {
          "output_type": "execute_result",
          "data": {
            "text/plain": [
              "2"
            ]
          },
          "metadata": {},
          "execution_count": 26
        }
      ]
    },
    {
      "cell_type": "code",
      "source": [
        "1+2+3"
      ],
      "metadata": {
        "colab": {
          "base_uri": "https://localhost:8080/"
        },
        "id": "yrztKAnKZvu3",
        "outputId": "92930c70-b4e9-4ae4-bb3a-87e07a3c1171"
      },
      "execution_count": null,
      "outputs": [
        {
          "output_type": "execute_result",
          "data": {
            "text/plain": [
              "6"
            ]
          },
          "metadata": {},
          "execution_count": 27
        }
      ]
    },
    {
      "cell_type": "code",
      "source": [
        "2*10"
      ],
      "metadata": {
        "colab": {
          "base_uri": "https://localhost:8080/"
        },
        "id": "r9Kz8tLT0Hy4",
        "outputId": "07835231-0bcc-4911-baee-66150cb0deb0"
      },
      "execution_count": null,
      "outputs": [
        {
          "output_type": "execute_result",
          "data": {
            "text/plain": [
              "20"
            ]
          },
          "metadata": {},
          "execution_count": 28
        }
      ]
    },
    {
      "cell_type": "code",
      "source": [
        "2**10  "
      ],
      "metadata": {
        "colab": {
          "base_uri": "https://localhost:8080/"
        },
        "id": "BljRn-ZPNdDv",
        "outputId": "43562099-48bb-4985-bc34-1db5592e0d09"
      },
      "execution_count": null,
      "outputs": [
        {
          "output_type": "execute_result",
          "data": {
            "text/plain": [
              "1024"
            ]
          },
          "metadata": {},
          "execution_count": 29
        }
      ]
    },
    {
      "cell_type": "code",
      "source": [
        "'AI관 719호'"
      ],
      "metadata": {
        "id": "sxUKhPKANrN2",
        "colab": {
          "base_uri": "https://localhost:8080/",
          "height": 36
        },
        "outputId": "820aac2a-012a-46db-a9d0-ddb83e61e3c7"
      },
      "execution_count": null,
      "outputs": [
        {
          "output_type": "execute_result",
          "data": {
            "application/vnd.google.colaboratory.intrinsic+json": {
              "type": "string"
            },
            "text/plain": [
              "'AI관 719호'"
            ]
          },
          "metadata": {},
          "execution_count": 30
        }
      ]
    },
    {
      "cell_type": "code",
      "source": [
        "'가천대학교' * 3"
      ],
      "metadata": {
        "colab": {
          "base_uri": "https://localhost:8080/",
          "height": 36
        },
        "id": "E6H-mDJT0COp",
        "outputId": "adc440e6-2995-47a5-e614-dd819278566d"
      },
      "execution_count": null,
      "outputs": [
        {
          "output_type": "execute_result",
          "data": {
            "application/vnd.google.colaboratory.intrinsic+json": {
              "type": "string"
            },
            "text/plain": [
              "'가천대학교가천대학교가천대학교'"
            ]
          },
          "metadata": {},
          "execution_count": 32
        }
      ]
    },
    {
      "cell_type": "code",
      "source": [
        "'Department of Smart City' * 7"
      ],
      "metadata": {
        "colab": {
          "base_uri": "https://localhost:8080/",
          "height": 55
        },
        "id": "uLQPFYg5a2zt",
        "outputId": "86ae78fc-62b1-4fba-be60-daa0c5b01061"
      },
      "execution_count": null,
      "outputs": [
        {
          "output_type": "execute_result",
          "data": {
            "application/vnd.google.colaboratory.intrinsic+json": {
              "type": "string"
            },
            "text/plain": [
              "'Department of Smart CityDepartment of Smart CityDepartment of Smart CityDepartment of Smart CityDepartment of Smart CityDepartment of Smart CityDepartment of Smart City'"
            ]
          },
          "metadata": {},
          "execution_count": 34
        }
      ]
    },
    {
      "cell_type": "code",
      "source": [
        "'Gachon University' * 5"
      ],
      "metadata": {
        "colab": {
          "base_uri": "https://localhost:8080/",
          "height": 36
        },
        "id": "3R6dpRYCa0US",
        "outputId": "2571bb08-b8ba-4d7b-b139-7c482c1da3c2"
      },
      "execution_count": null,
      "outputs": [
        {
          "output_type": "execute_result",
          "data": {
            "application/vnd.google.colaboratory.intrinsic+json": {
              "type": "string"
            },
            "text/plain": [
              "'Gachon UniversityGachon UniversityGachon UniversityGachon UniversityGachon University'"
            ]
          },
          "metadata": {},
          "execution_count": 33
        }
      ]
    },
    {
      "cell_type": "code",
      "source": [
        "## 셀 실행 방법\n",
        "# ▶ 버튼\n",
        "# Ctrl + Enter\n",
        "# Shift + Enter\n",
        "# Alt + Enter"
      ],
      "metadata": {
        "id": "RnuYO8B_s2RR"
      },
      "execution_count": null,
      "outputs": []
    },
    {
      "cell_type": "markdown",
      "source": [
        "# 제목\n",
        "\n",
        "1. 1번\n",
        "2. 2번\n",
        "3. 3번\n",
        "\n",
        "- 스마트시티융합학과\n",
        "- 의공학과\n",
        "- 컴퓨터공학과"
      ],
      "metadata": {
        "id": "zF7YrEg1euEf"
      }
    },
    {
      "cell_type": "markdown",
      "source": [
        "# Google Colaboratory\n",
        "- Jupyter Notebook 기반의 Python 온라인 개발 환경\n",
        "- Jupyter Notebook 등을 설치할 필요가 없어 인터넷이 연결된 어디서나 브라우저로 Python 사용 가능\n",
        "- Google Drive, Github와의 연동성\n",
        "- Google의 GPU 등 클라우드 자원 이용\n",
        "- 무료! (Colab Pro는 유료)\n",
        "- 수업을 위한 팁\n",
        " - 기존 개인 구글 계정이 아닌 @gachon.ac.kr 계정으로 가입\n",
        " - Google Drive/Colab Notebooks 폴더에 개인이 작성한 Python 코드 저장\n",
        "- 텍스트셀과 코드셀을 구분하여 작성 가능\n",
        " - 셀 아래에 마우스를 올려놓으면 + 코드 + 텍스트 셀을 구분하여 셀 삽입\n",
        " - 텍스트셀로 변환 Ctrl+M, M\n",
        " - 코드셀로 변환 Ctrl+M, Y"
      ],
      "metadata": {
        "id": "au5e23eTrl2z"
      }
    },
    {
      "cell_type": "code",
      "source": [
        "1+1"
      ],
      "metadata": {
        "id": "UYQoKLqBfHP4",
        "colab": {
          "base_uri": "https://localhost:8080/"
        },
        "outputId": "c7f891f6-e023-4405-b96a-4201f59f699f"
      },
      "execution_count": null,
      "outputs": [
        {
          "output_type": "execute_result",
          "data": {
            "text/plain": [
              "2"
            ]
          },
          "metadata": {},
          "execution_count": 36
        }
      ]
    },
    {
      "cell_type": "markdown",
      "source": [
        "이 건 텍스트셀"
      ],
      "metadata": {
        "id": "l4x9HbWTN2E7"
      }
    },
    {
      "cell_type": "code",
      "source": [
        "이 건 코드셀"
      ],
      "metadata": {
        "id": "_GUbymCt0-S1",
        "colab": {
          "base_uri": "https://localhost:8080/",
          "height": 139
        },
        "outputId": "debf726b-1e6d-475c-8a86-3f48ccaedd18"
      },
      "execution_count": null,
      "outputs": [
        {
          "output_type": "error",
          "ename": "SyntaxError",
          "evalue": "ignored",
          "traceback": [
            "\u001b[0;36m  File \u001b[0;32m\"<ipython-input-37-6fe3631c6a4b>\"\u001b[0;36m, line \u001b[0;32m1\u001b[0m\n\u001b[0;31m    이 건 코드셀\u001b[0m\n\u001b[0m      ^\u001b[0m\n\u001b[0;31mSyntaxError\u001b[0m\u001b[0;31m:\u001b[0m invalid syntax\n"
          ]
        }
      ]
    },
    {
      "cell_type": "markdown",
      "source": [
        "'이 건 코드셀'"
      ],
      "metadata": {
        "id": "iRrX7lux1Cbo"
      }
    },
    {
      "cell_type": "code",
      "source": [
        "'이 건 텍스트셀'"
      ],
      "metadata": {
        "id": "8iSbIkv1BVXT",
        "colab": {
          "base_uri": "https://localhost:8080/",
          "height": 36
        },
        "outputId": "70a686b5-f96a-4a63-d371-13b40b603587"
      },
      "execution_count": null,
      "outputs": [
        {
          "output_type": "execute_result",
          "data": {
            "application/vnd.google.colaboratory.intrinsic+json": {
              "type": "string"
            },
            "text/plain": [
              "'이 건 텍스트셀'"
            ]
          },
          "metadata": {},
          "execution_count": 40
        }
      ]
    },
    {
      "cell_type": "markdown",
      "source": [
        "# Python 코드 제출\n",
        "- 실습 수업 시간 또는 그 이후에 본인이 작성한 코드를 제출\n",
        "- 사이버캠퍼스에 주차별 과제에 업로드\n",
        "- 파일명: 김영롱_01_이름마음대로.ipynb\n",
        "- Deadline: 다음 수업시간(월요일) 전"
      ],
      "metadata": {
        "id": "knC_c1dC85Cm"
      }
    },
    {
      "cell_type": "markdown",
      "source": [
        "---"
      ],
      "metadata": {
        "id": "p0KqpnHGfEHS"
      }
    },
    {
      "cell_type": "code",
      "execution_count": null,
      "metadata": {
        "id": "7jLNVtjC3KL6",
        "colab": {
          "base_uri": "https://localhost:8080/"
        },
        "outputId": "5c3a3d41-a372-456c-eacb-8fc855c35ce9"
      },
      "outputs": [
        {
          "output_type": "execute_result",
          "data": {
            "text/plain": [
              "2"
            ]
          },
          "metadata": {},
          "execution_count": 43
        }
      ],
      "source": [
        "# 주석 처리\n",
        "1+1  # 뒤에 쓴 말은 컴퓨터가 읽지 않는다\n",
        "# 컴퓨터 몰래 우리끼리 이야기\n",
        "# 해시태그도_여기에서_시작하지_않았을까?\n",
        "# 단축키 Ctrl+/\n",
        "\n",
        "'''\n",
        "여러 문장을 주석 처리하고 싶으면\n",
        "따옴표 세 개\n",
        "'''"
      ]
    },
    {
      "cell_type": "code",
      "source": [
        "1+1\n",
        "2+2\n",
        "3+3"
      ],
      "metadata": {
        "colab": {
          "base_uri": "https://localhost:8080/"
        },
        "id": "eHDufHiRibKM",
        "outputId": "915d84b9-c697-4405-a20b-b1023bafc14c"
      },
      "execution_count": null,
      "outputs": [
        {
          "output_type": "execute_result",
          "data": {
            "text/plain": [
              "6"
            ]
          },
          "metadata": {},
          "execution_count": 49
        }
      ]
    },
    {
      "cell_type": "code",
      "source": [
        "# print 화면에 출력하는 함수\n",
        "print(1)  # 1을 화면에 출력"
      ],
      "metadata": {
        "colab": {
          "base_uri": "https://localhost:8080/"
        },
        "id": "-ny6xgyD3xT9",
        "outputId": "de57aa8e-fa0b-4d41-cea5-3f5d84575a3e"
      },
      "execution_count": null,
      "outputs": [
        {
          "output_type": "stream",
          "name": "stdout",
          "text": [
            "1\n"
          ]
        }
      ]
    },
    {
      "cell_type": "code",
      "source": [
        "print(1)  # 이 코드는 1을 출력하기 위해서 만들었다, 2022. 3. 8."
      ],
      "metadata": {
        "colab": {
          "base_uri": "https://localhost:8080/"
        },
        "id": "jIFnQqgvD48U",
        "outputId": "f1093a31-dad4-4831-f830-a37dc67f52b3"
      },
      "execution_count": null,
      "outputs": [
        {
          "output_type": "stream",
          "name": "stdout",
          "text": [
            "1\n"
          ]
        }
      ]
    },
    {
      "cell_type": "code",
      "source": [
        "print(1+1)\n",
        "print(2+2)\n",
        "print(3+3)"
      ],
      "metadata": {
        "colab": {
          "base_uri": "https://localhost:8080/"
        },
        "id": "ilm6pk1Q4teR",
        "outputId": "c38762d4-9978-405a-edb1-4b2817e69bf6"
      },
      "execution_count": null,
      "outputs": [
        {
          "output_type": "stream",
          "name": "stdout",
          "text": [
            "2\n",
            "4\n",
            "6\n"
          ]
        }
      ]
    },
    {
      "cell_type": "code",
      "source": [
        "print(1, 2, 3)"
      ],
      "metadata": {
        "colab": {
          "base_uri": "https://localhost:8080/"
        },
        "id": "7vN_zOKr4uwx",
        "outputId": "73446363-6417-463b-b4a5-18bd602b3059"
      },
      "execution_count": null,
      "outputs": [
        {
          "output_type": "stream",
          "name": "stdout",
          "text": [
            "1 2 3\n"
          ]
        }
      ]
    },
    {
      "cell_type": "code",
      "source": [
        "# 문자열을 ' ' 또는 \" \" 안에\n",
        "# print(1+1)\n",
        "# print('전공수학')\n",
        "# print('가천대', '전공수학')\n",
        "\n",
        "print(2*3)\n",
        "print('가천대학교')\n",
        "print('가천대학교', 2022, '학번')\n"
      ],
      "metadata": {
        "colab": {
          "base_uri": "https://localhost:8080/"
        },
        "id": "_K4x1yrk3zrf",
        "outputId": "ba58127c-1c11-4062-b7fe-d12670a7bb48"
      },
      "execution_count": null,
      "outputs": [
        {
          "output_type": "stream",
          "name": "stdout",
          "text": [
            "6\n",
            "가천대학교\n",
            "가천대학교 2022 학번\n"
          ]
        }
      ]
    },
    {
      "cell_type": "code",
      "source": [
        "print('가천대', '스마트시티융합학과')"
      ],
      "metadata": {
        "colab": {
          "base_uri": "https://localhost:8080/"
        },
        "id": "O6m2-9xp36A_",
        "outputId": "45cb9060-51ef-49b6-c8c7-cdf914a43775"
      },
      "execution_count": null,
      "outputs": [
        {
          "output_type": "stream",
          "name": "stdout",
          "text": [
            "가천대 스마트시티융합학과\n"
          ]
        }
      ]
    },
    {
      "cell_type": "code",
      "source": [
        "print('가천대', '스마트시티융합학과', 202212345, '김영롱')"
      ],
      "metadata": {
        "colab": {
          "base_uri": "https://localhost:8080/"
        },
        "id": "esA1tLB53_dD",
        "outputId": "5945538b-f670-44a3-e346-672d69d0abd8"
      },
      "execution_count": null,
      "outputs": [
        {
          "output_type": "stream",
          "name": "stdout",
          "text": [
            "가천대 스마트시티융합학과 202212345 김영롱\n"
          ]
        }
      ]
    },
    {
      "cell_type": "markdown",
      "source": [
        "# 변수(variable)\n",
        "- 자료를 넣어두는 그릇\n",
        "- 자료 형태에 따라 다르게 변수를 설정"
      ],
      "metadata": {
        "id": "nXtomjeBS0-a"
      }
    },
    {
      "cell_type": "markdown",
      "source": [
        "![image.png](data:image/png;base64,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)\n",
        "\n",
        "![image.png](data:image/png;base64,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)\n",
        "\n",
        "> 정동균, Do it! 첫 코딩, p. 75"
      ],
      "metadata": {
        "id": "VUsQpktnT4vP"
      }
    },
    {
      "cell_type": "code",
      "source": [
        "## 변수에 넣기(할당)\n",
        "a = 1\n",
        "b = 3\n",
        "print(a)\n",
        "print(b)\n",
        "print(a + b)\n",
        "print(a + 10)\n",
        "print(b * 10)"
      ],
      "metadata": {
        "colab": {
          "base_uri": "https://localhost:8080/"
        },
        "id": "mllWvZrZ5DhT",
        "outputId": "31431b30-9930-4426-bfda-8bbf580e1cd1"
      },
      "execution_count": null,
      "outputs": [
        {
          "output_type": "stream",
          "name": "stdout",
          "text": [
            "1\n",
            "3\n",
            "4\n",
            "11\n",
            "30\n"
          ]
        }
      ]
    },
    {
      "cell_type": "code",
      "source": [
        "a=1"
      ],
      "metadata": {
        "id": "PjdvbBHvGaPV"
      },
      "execution_count": null,
      "outputs": []
    },
    {
      "cell_type": "code",
      "source": [
        "print(a)"
      ],
      "metadata": {
        "colab": {
          "base_uri": "https://localhost:8080/"
        },
        "id": "1nuvix0eGmlU",
        "outputId": "cf3b50d4-a90c-43fb-f7ab-d66d6e9fbb6c"
      },
      "execution_count": null,
      "outputs": [
        {
          "output_type": "stream",
          "name": "stdout",
          "text": [
            "1\n"
          ]
        }
      ]
    },
    {
      "cell_type": "code",
      "source": [
        "a = a + 1\n",
        "print(a)"
      ],
      "metadata": {
        "colab": {
          "base_uri": "https://localhost:8080/"
        },
        "id": "B2qBAV0ZliC4",
        "outputId": "0e3850d5-5fea-4381-8a7a-ca48936ed90f"
      },
      "execution_count": null,
      "outputs": [
        {
          "output_type": "stream",
          "name": "stdout",
          "text": [
            "2\n"
          ]
        }
      ]
    },
    {
      "cell_type": "code",
      "source": [
        "print(a)\n",
        "a += 1  # a = a + 1\n",
        "print(a)"
      ],
      "metadata": {
        "colab": {
          "base_uri": "https://localhost:8080/"
        },
        "id": "a_nu3j51OcVm",
        "outputId": "bed13fa2-7883-44a9-cf93-11bffb71e8ab"
      },
      "execution_count": null,
      "outputs": [
        {
          "output_type": "stream",
          "name": "stdout",
          "text": [
            "5\n",
            "6\n"
          ]
        }
      ]
    },
    {
      "cell_type": "code",
      "source": [
        "print(b)\n",
        "b *= 10   # b = b * 10\n",
        "print(b)"
      ],
      "metadata": {
        "colab": {
          "base_uri": "https://localhost:8080/"
        },
        "id": "0HPMXWd8OhwA",
        "outputId": "6123432e-f31f-4c78-eb38-702cbf7a1c70"
      },
      "execution_count": null,
      "outputs": [
        {
          "output_type": "stream",
          "name": "stdout",
          "text": [
            "300\n",
            "3000\n"
          ]
        }
      ]
    },
    {
      "cell_type": "code",
      "source": [
        "# '같다'라는 뜻은 ==\n",
        "# '다르다'라는 뜻은 !=\n",
        "print(1==1)\n",
        "print(1==2)"
      ],
      "metadata": {
        "colab": {
          "base_uri": "https://localhost:8080/"
        },
        "id": "ShY1gTKH6eJR",
        "outputId": "1fd5a477-a8a5-497b-a3ba-d39d7fe4aab7"
      },
      "execution_count": null,
      "outputs": [
        {
          "output_type": "stream",
          "name": "stdout",
          "text": [
            "True\n",
            "False\n"
          ]
        }
      ]
    },
    {
      "cell_type": "code",
      "source": [
        "a = '가천대'\n",
        "b = '스마트시티학과'\n",
        "c = '2022'\n",
        "d = '학번'\n",
        "\n",
        "print(a, b, c, d)"
      ],
      "metadata": {
        "colab": {
          "base_uri": "https://localhost:8080/"
        },
        "id": "w9kqXrbYmUUm",
        "outputId": "aedf56d9-a25b-4f90-b4d4-05c38b3e5297"
      },
      "execution_count": null,
      "outputs": [
        {
          "output_type": "stream",
          "name": "stdout",
          "text": [
            "가천대 스마트시티학과 2022 학번\n"
          ]
        }
      ]
    },
    {
      "cell_type": "code",
      "source": [
        "university = '가천대'\n",
        "department = '스마트시티융합학과'\n",
        "number = 202212345\n",
        "name = '내 이름'\n",
        "\n",
        "print(university)\n",
        "print(department)\n",
        "print(number)\n",
        "print(name)\n",
        "\n",
        "print(university, department, number, name)\n"
      ],
      "metadata": {
        "colab": {
          "base_uri": "https://localhost:8080/"
        },
        "id": "boK8-E4K4Ge6",
        "outputId": "18a7613a-9f1a-47ab-82ca-f779758188ce"
      },
      "execution_count": null,
      "outputs": [
        {
          "output_type": "stream",
          "name": "stdout",
          "text": [
            "가천대\n",
            "스마트시티융합학과\n",
            "202212345\n",
            "내 이름\n",
            "가천대 스마트시티융합학과 202212345 내 이름\n"
          ]
        }
      ]
    },
    {
      "cell_type": "code",
      "source": [
        "hashtag = '#'\n",
        "print(hashtag*5)"
      ],
      "metadata": {
        "colab": {
          "base_uri": "https://localhost:8080/"
        },
        "id": "4Ppt8OVU5mQb",
        "outputId": "35265241-7427-4c94-d5cc-eba9f0b3a844"
      },
      "execution_count": null,
      "outputs": [
        {
          "output_type": "stream",
          "name": "stdout",
          "text": [
            "#####\n"
          ]
        }
      ]
    },
    {
      "cell_type": "code",
      "source": [
        "print(hashtag*1)\n",
        "print(hashtag*2)\n",
        "print(hashtag*3)\n",
        "print(hashtag*4)\n",
        "print(hashtag*5)"
      ],
      "metadata": {
        "colab": {
          "base_uri": "https://localhost:8080/"
        },
        "id": "21YIlu1K5ucX",
        "outputId": "8a37b4d4-589a-4e5c-922a-c1c064d2d9c3"
      },
      "execution_count": null,
      "outputs": [
        {
          "output_type": "stream",
          "name": "stdout",
          "text": [
            "#\n",
            "##\n",
            "###\n",
            "####\n",
            "#####\n"
          ]
        }
      ]
    },
    {
      "cell_type": "markdown",
      "source": [
        "# Python 변수 이름 규칙\n",
        "## 알파벳(한글)으로 시작해서 숫자, 밑줄( _ ) 을 적절히 혼합\n",
        "\n",
        "- 숫자로 시작할 수 없음\n",
        "- 숫자로만 구성될 수 없음\n",
        "- Python 예약어(명령어, True/False 등) 사용할 수 없음\n",
        "- 빈칸(  ) 과 연산자(+ - * / = & ! 등) 사용할 수 없음\n",
        "\n",
        "\n",
        "# 변수 이름 짓는 스타일\n",
        "- 낙타(camel)\n",
        " - 처음 나오는 단어는 영어 소문자, 그 다음 단어는 대문자로 시작\n",
        "   - 대소문자 구분은 언어에 따라 다름. Python은 대소문자 구분\n",
        " - 변수명이 낙타 등과 같이 올록볼록하게 \n",
        " - camelVariable, gachonSmartCity\n",
        "- 파스칼(pascal)\n",
        "  - 낙타 방식에서 첫 글자를 대문자로 시작\n",
        "  - PascalVariable, GachonSmartCity\n",
        "- 뱀(snake)\n",
        " - 소문자 단어 사이를 _로 이어줌\n",
        " - 변수명이 뱀처럼 죽 이어지게\n",
        " - snake_variable, gachon_smart_city\n",
        "- 케밥(kebab)\n",
        " - 소문자 단어 사이를 -로 이어줌 (Python에서는 사용할 수 없음)\n",
        " - 케밥 꼬치처럼\n",
        " - kebab-varialbe, gachon-smart-city \n"
      ],
      "metadata": {
        "id": "u0I9cSZU5f4Q"
      }
    },
    {
      "cell_type": "markdown",
      "source": [
        "<img src='https://i.redd.it/fydmpc3ej8d31.png'>\n",
        "\n",
        "> https://www.reddit.com/r/ProgrammerHumor/comments/cjaikm/exploring_the_world_of_cases/"
      ],
      "metadata": {
        "id": "PZ5htSsTVyAA"
      }
    },
    {
      "cell_type": "markdown",
      "source": [
        "<img src='http://image.yes24.com/goods/79378905/XL'>\n",
        "\n",
        "> 김철수, 개발자의 글쓰기"
      ],
      "metadata": {
        "id": "6-ZErZlyWXyO"
      }
    },
    {
      "cell_type": "markdown",
      "source": [
        "---"
      ],
      "metadata": {
        "id": "vLky5zUr9I2J"
      }
    }
  ]
}