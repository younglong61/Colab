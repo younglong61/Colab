{
  "nbformat": 4,
  "nbformat_minor": 0,
  "metadata": {
    "colab": {
      "name": "01_Python기초.ipynb",
      "provenance": [],
      "toc_visible": true,
      "authorship_tag": "ABX9TyMSYo2B5PfU4YjrWT6svcQU",
      "include_colab_link": true
    },
    "kernelspec": {
      "name": "python3",
      "display_name": "Python 3"
    },
    "language_info": {
      "name": "python"
    }
  },
  "cells": [
    {
      "cell_type": "markdown",
      "metadata": {
        "id": "view-in-github",
        "colab_type": "text"
      },
      "source": [
        "<a href=\"https://colab.research.google.com/github/younglong61/Colab/blob/main/01_Python%EA%B8%B0%EC%B4%88.ipynb\" target=\"_parent\"><img src=\"https://colab.research.google.com/assets/colab-badge.svg\" alt=\"Open In Colab\"/></a>"
      ]
    },
    {
      "cell_type": "markdown",
      "source": [
        "# Python\n",
        "- 현존하는 가장 범용적인 개발 프로그래밍 언어\n",
        " - 웹 개발, 크롤링, 해킹...\n",
        " - 데이터사이언스, 머신러닝, 인공지능...\n",
        " - 아직 코딩을 어디에 써야할지 모른다면 Python으로 입문!\n",
        "- (상대적으로) 쉬운 문법 (≈ 영어)\n",
        " - 난이도: 기계어(machine language) > C언어 > Java > Python\n",
        "> Life is short. You need Python. (Bruce Eckel)\n",
        "- 많은 사용자로 인한 장점 (≈ 영어)\n",
        " - 구글링을 통해 가장 많은 질문과 답변을 찾을 수 있다\n",
        " - 다른 사람의 코드, 함수, 라이브러리를 가져다 쓸 수 있다\n",
        " - 다른 분야의 개발자와 소통할 수 있다\n",
        "- 컴퓨터와 대화하듯이 코드 라인 단위로 소통하는 인터프리터(interpreter) 언어\n",
        " - 컴파일러(compiler) 언어(예: C언어)에 비해 속도가 느림\n",
        "- Markdown을 통해 자체적으로 문서 작성 (<> 한글, 워드)\n"
      ],
      "metadata": {
        "id": "4OGemdS-rjPx"
      }
    },
    {
      "cell_type": "code",
      "source": [
        "1+1"
      ],
      "metadata": {
        "colab": {
          "base_uri": "https://localhost:8080/"
        },
        "id": "H08u8hBFzzeb",
        "outputId": "012be895-a8e5-407e-ea25-3acc69f4b3b1"
      },
      "execution_count": null,
      "outputs": [
        {
          "output_type": "execute_result",
          "data": {
            "text/plain": [
              "2"
            ]
          },
          "metadata": {},
          "execution_count": 56
        }
      ]
    },
    {
      "cell_type": "code",
      "source": [
        "2*10"
      ],
      "metadata": {
        "colab": {
          "base_uri": "https://localhost:8080/"
        },
        "id": "r9Kz8tLT0Hy4",
        "outputId": "255ab86d-257d-40c7-8903-f45e8c36adb9"
      },
      "execution_count": null,
      "outputs": [
        {
          "output_type": "execute_result",
          "data": {
            "text/plain": [
              "20"
            ]
          },
          "metadata": {},
          "execution_count": 49
        }
      ]
    },
    {
      "cell_type": "code",
      "source": [
        "2**10"
      ],
      "metadata": {
        "colab": {
          "base_uri": "https://localhost:8080/"
        },
        "id": "BljRn-ZPNdDv",
        "outputId": "d1d137e5-afcf-4f17-cbe4-0c51fac68461"
      },
      "execution_count": null,
      "outputs": [
        {
          "output_type": "execute_result",
          "data": {
            "text/plain": [
              "1024"
            ]
          },
          "metadata": {},
          "execution_count": 50
        }
      ]
    },
    {
      "cell_type": "code",
      "source": [
        "'가천대학교에 오신 것을 환영합니다!'"
      ],
      "metadata": {
        "id": "sxUKhPKANrN2",
        "colab": {
          "base_uri": "https://localhost:8080/",
          "height": 36
        },
        "outputId": "86f0bdba-9efa-4a0f-f898-87f793b16933"
      },
      "execution_count": null,
      "outputs": [
        {
          "output_type": "execute_result",
          "data": {
            "application/vnd.google.colaboratory.intrinsic+json": {
              "type": "string"
            },
            "text/plain": [
              "'가천대학교에 오신 것을 환영합니다!'"
            ]
          },
          "metadata": {},
          "execution_count": 51
        }
      ]
    },
    {
      "cell_type": "code",
      "source": [
        "'Welcome to Gachon University! ' * 3"
      ],
      "metadata": {
        "colab": {
          "base_uri": "https://localhost:8080/",
          "height": 36
        },
        "id": "E6H-mDJT0COp",
        "outputId": "ee4c0a5e-3116-49ed-acda-77e175a37fc0"
      },
      "execution_count": null,
      "outputs": [
        {
          "output_type": "execute_result",
          "data": {
            "application/vnd.google.colaboratory.intrinsic+json": {
              "type": "string"
            },
            "text/plain": [
              "'Welcome to Gachon University! Welcome to Gachon University! Welcome to Gachon University! '"
            ]
          },
          "metadata": {},
          "execution_count": 53
        }
      ]
    },
    {
      "cell_type": "code",
      "source": [
        "## 셀 실행 방법\n",
        "# ▶ 버튼\n",
        "# Ctrl + Enter\n",
        "# Shift + Enter\n",
        "# Alt + Enter"
      ],
      "metadata": {
        "id": "RnuYO8B_s2RR"
      },
      "execution_count": null,
      "outputs": []
    },
    {
      "cell_type": "markdown",
      "source": [
        "# Google Colaboratory\n",
        "- Jupyter Notebook 기반의 Python 온라인 개발 환경\n",
        "- Jupyter Notebook 등을 설치할 필요가 없어 인터넷이 연결된 어디서나 브라우저로 Python 사용 가능\n",
        "- Google Drive, Github와의 연동성\n",
        "- Google의 GPU 등 클라우드 자원 이용\n",
        "- 무료! (Colab Pro는 유료)\n",
        "- 수업을 위한 팁\n",
        " - 기존 개인 구글 계정이 아닌 @gachon.ac.kr 계정으로 가입\n",
        " - Google Drive/Colab Notebooks 폴더에 개인이 작성한 Python 코드 저장\n",
        "- 텍스트셀과 코드셀을 구분하여 작성 가능\n",
        " - 셀 아래에 마우스를 올려놓으면 + 코드 + 텍스트 셀을 구분하여 셀 삽입\n",
        " - 텍스트셀로 변환 Ctrl+M, M\n",
        " - 코드셀로 변환 Ctrl+M, Y"
      ],
      "metadata": {
        "id": "au5e23eTrl2z"
      }
    },
    {
      "cell_type": "markdown",
      "source": [
        "이 건 텍스트셀"
      ],
      "metadata": {
        "id": "l4x9HbWTN2E7"
      }
    },
    {
      "cell_type": "code",
      "source": [
        "이 건 코드셀"
      ],
      "metadata": {
        "id": "_GUbymCt0-S1",
        "colab": {
          "base_uri": "https://localhost:8080/",
          "height": 139
        },
        "outputId": "ef093120-bb7f-4513-f762-24d5957325a3"
      },
      "execution_count": null,
      "outputs": [
        {
          "output_type": "error",
          "ename": "SyntaxError",
          "evalue": "ignored",
          "traceback": [
            "\u001b[0;36m  File \u001b[0;32m\"<ipython-input-58-6fe3631c6a4b>\"\u001b[0;36m, line \u001b[0;32m1\u001b[0m\n\u001b[0;31m    이 건 코드셀\u001b[0m\n\u001b[0m      ^\u001b[0m\n\u001b[0;31mSyntaxError\u001b[0m\u001b[0;31m:\u001b[0m invalid syntax\n"
          ]
        }
      ]
    },
    {
      "cell_type": "code",
      "source": [
        "'이 건 코드셀'"
      ],
      "metadata": {
        "id": "iRrX7lux1Cbo",
        "colab": {
          "base_uri": "https://localhost:8080/",
          "height": 36
        },
        "outputId": "b9db6a32-e12e-4585-855a-e0dbc2791cb8"
      },
      "execution_count": null,
      "outputs": [
        {
          "output_type": "execute_result",
          "data": {
            "application/vnd.google.colaboratory.intrinsic+json": {
              "type": "string"
            },
            "text/plain": [
              "'이 건 코드셀'"
            ]
          },
          "metadata": {},
          "execution_count": 59
        }
      ]
    },
    {
      "cell_type": "markdown",
      "source": [
        "'이 건 텍스트셀'"
      ],
      "metadata": {
        "id": "8iSbIkv1BVXT"
      }
    },
    {
      "cell_type": "markdown",
      "source": [
        "# Python 코드 제출\n",
        "- 실습 수업 시간 또는 그 이후에 본인이 작성한 코드를 제출\n",
        "- 사이버캠퍼스에 주차별 과제에 업로드\n",
        "- 파일명: 김영롱_01_이름마음대로.ipynb\n",
        "- Deadline: 다음 수업시간(월요일) 전"
      ],
      "metadata": {
        "id": "knC_c1dC85Cm"
      }
    },
    {
      "cell_type": "markdown",
      "source": [
        "---"
      ],
      "metadata": {
        "id": "p0KqpnHGfEHS"
      }
    },
    {
      "cell_type": "code",
      "execution_count": null,
      "metadata": {
        "id": "7jLNVtjC3KL6"
      },
      "outputs": [],
      "source": [
        "# 주석 처리\n",
        "# # 뒤에 쓴 말은 컴퓨터가 읽지 않는다\n",
        "# 컴퓨터 몰래 우리끼리 이야기\n",
        "# 해시태그도_여기에서_시작하지_않았을까?\n",
        "# 단축키 Ctrl+/\n",
        "\n",
        "'''\n",
        "여러 문장을 주석 처리하고 싶으면\n",
        "따옴표 세 개\n",
        "'''"
      ]
    },
    {
      "cell_type": "code",
      "source": [
        "# print 화면에 출력하는 함수\n",
        "print(1)  # 1을 화면에 출력"
      ],
      "metadata": {
        "colab": {
          "base_uri": "https://localhost:8080/"
        },
        "id": "-ny6xgyD3xT9",
        "outputId": "2e5ce46b-c657-4a4f-8163-d7516c85b8df"
      },
      "execution_count": null,
      "outputs": [
        {
          "output_type": "stream",
          "name": "stdout",
          "text": [
            "1\n"
          ]
        }
      ]
    },
    {
      "cell_type": "code",
      "source": [
        "print(1)  # 이 코드는 1을 출력하기 위해서 만들었다, 2022. 3. 7."
      ],
      "metadata": {
        "colab": {
          "base_uri": "https://localhost:8080/"
        },
        "id": "jIFnQqgvD48U",
        "outputId": "839ebd07-7af7-4c84-8865-d94cccd888f7"
      },
      "execution_count": null,
      "outputs": [
        {
          "output_type": "stream",
          "name": "stdout",
          "text": [
            "1\n"
          ]
        }
      ]
    },
    {
      "cell_type": "code",
      "source": [
        "print(1+1)\n",
        "print(2+2)"
      ],
      "metadata": {
        "colab": {
          "base_uri": "https://localhost:8080/"
        },
        "id": "ilm6pk1Q4teR",
        "outputId": "2408882f-6e9c-4877-aa70-be315120a4a1"
      },
      "execution_count": null,
      "outputs": [
        {
          "output_type": "stream",
          "name": "stdout",
          "text": [
            "2\n",
            "4\n"
          ]
        }
      ]
    },
    {
      "cell_type": "code",
      "source": [
        "print(1, 2, 3)"
      ],
      "metadata": {
        "colab": {
          "base_uri": "https://localhost:8080/"
        },
        "id": "7vN_zOKr4uwx",
        "outputId": "d52ef97d-3418-44ab-86ae-b5ffc7761bb5"
      },
      "execution_count": null,
      "outputs": [
        {
          "output_type": "stream",
          "name": "stdout",
          "text": [
            "1 2 3\n"
          ]
        }
      ]
    },
    {
      "cell_type": "code",
      "source": [
        "# 문자열을 ' ' 또는 \" \" 안에\n",
        "print(1+1)\n",
        "print('전공수학')\n",
        "print('가천대', '전공수학')"
      ],
      "metadata": {
        "colab": {
          "base_uri": "https://localhost:8080/"
        },
        "id": "_K4x1yrk3zrf",
        "outputId": "f9d4fe97-6704-4e2c-b253-bc2c95b16bca"
      },
      "execution_count": null,
      "outputs": [
        {
          "output_type": "stream",
          "name": "stdout",
          "text": [
            "2\n",
            "전공수학\n",
            "가천대 전공수학\n"
          ]
        }
      ]
    },
    {
      "cell_type": "code",
      "source": [
        "print('가천대', '스마트시티융합학과')"
      ],
      "metadata": {
        "colab": {
          "base_uri": "https://localhost:8080/"
        },
        "id": "O6m2-9xp36A_",
        "outputId": "45cb9060-51ef-49b6-c8c7-cdf914a43775"
      },
      "execution_count": null,
      "outputs": [
        {
          "output_type": "stream",
          "name": "stdout",
          "text": [
            "가천대 스마트시티융합학과\n"
          ]
        }
      ]
    },
    {
      "cell_type": "code",
      "source": [
        "print('가천대', '스마트시티융합학과', 202212345, '김영롱')"
      ],
      "metadata": {
        "colab": {
          "base_uri": "https://localhost:8080/"
        },
        "id": "esA1tLB53_dD",
        "outputId": "5945538b-f670-44a3-e346-672d69d0abd8"
      },
      "execution_count": null,
      "outputs": [
        {
          "output_type": "stream",
          "name": "stdout",
          "text": [
            "가천대 스마트시티융합학과 202212345 김영롱\n"
          ]
        }
      ]
    },
    {
      "cell_type": "markdown",
      "source": [
        "# 변수(variable)\n",
        "- 자료를 넣어두는 그릇\n",
        "- 자료 형태에 따라 다르게 변수를 설정"
      ],
      "metadata": {
        "id": "nXtomjeBS0-a"
      }
    },
    {
      "cell_type": "markdown",
      "source": [
        "<img src='https://drive.google.com/uc?id=1TWn74oKOhx3lKYhOxH5MTfGSTPYdggIf'>\n",
        "\n",
        "> 정동균, Do it! 첫 코딩, p. 75"
      ],
      "metadata": {
        "id": "VUsQpktnT4vP"
      }
    },
    {
      "cell_type": "code",
      "source": [
        "## 변수에 넣기(할당)\n",
        "a = 1\n",
        "b = 3\n",
        "print(a)\n",
        "print(b)\n",
        "print(a+b)\n",
        "print(a+10)\n",
        "print(b*10)"
      ],
      "metadata": {
        "colab": {
          "base_uri": "https://localhost:8080/"
        },
        "id": "mllWvZrZ5DhT",
        "outputId": "32fbe6c3-9d1c-4bd1-dc21-b988fbb77522"
      },
      "execution_count": null,
      "outputs": [
        {
          "output_type": "stream",
          "name": "stdout",
          "text": [
            "1\n",
            "3\n",
            "4\n",
            "11\n",
            "30\n"
          ]
        }
      ]
    },
    {
      "cell_type": "code",
      "source": [
        "a=1\n",
        "b=3"
      ],
      "metadata": {
        "id": "PjdvbBHvGaPV"
      },
      "execution_count": null,
      "outputs": []
    },
    {
      "cell_type": "code",
      "source": [
        "print(a)"
      ],
      "metadata": {
        "colab": {
          "base_uri": "https://localhost:8080/"
        },
        "id": "1nuvix0eGmlU",
        "outputId": "d401ba57-bc8e-4bf9-ff83-9543d083db90"
      },
      "execution_count": null,
      "outputs": [
        {
          "output_type": "stream",
          "name": "stdout",
          "text": [
            "1\n"
          ]
        }
      ]
    },
    {
      "cell_type": "code",
      "source": [
        "print(a)\n",
        "a += 1  # a = a + 1\n",
        "print(a)"
      ],
      "metadata": {
        "colab": {
          "base_uri": "https://localhost:8080/"
        },
        "id": "a_nu3j51OcVm",
        "outputId": "6c18cfc8-7243-4366-8b02-cd922d9a9fdd"
      },
      "execution_count": null,
      "outputs": [
        {
          "output_type": "stream",
          "name": "stdout",
          "text": [
            "2\n",
            "3\n"
          ]
        }
      ]
    },
    {
      "cell_type": "code",
      "source": [
        "print(b)\n",
        "b *= 10   # b = b * 10\n",
        "print(b)"
      ],
      "metadata": {
        "colab": {
          "base_uri": "https://localhost:8080/"
        },
        "id": "0HPMXWd8OhwA",
        "outputId": "5ddc61a1-04e3-455e-93f1-ff20669a4615"
      },
      "execution_count": null,
      "outputs": [
        {
          "output_type": "stream",
          "name": "stdout",
          "text": [
            "3000\n",
            "30000\n"
          ]
        }
      ]
    },
    {
      "cell_type": "code",
      "source": [
        "# '같다'라는 뜻은 ==\n",
        "# '다르다'라는 뜻은 !=\n",
        "print(1==1)\n",
        "print(1==2)"
      ],
      "metadata": {
        "colab": {
          "base_uri": "https://localhost:8080/"
        },
        "id": "ShY1gTKH6eJR",
        "outputId": "1fd5a477-a8a5-497b-a3ba-d39d7fe4aab7"
      },
      "execution_count": null,
      "outputs": [
        {
          "output_type": "stream",
          "name": "stdout",
          "text": [
            "True\n",
            "False\n"
          ]
        }
      ]
    },
    {
      "cell_type": "code",
      "source": [
        "university = '가천대'\n",
        "department = '스마트시티융합학과'\n",
        "number = 202212345\n",
        "name = '내 이름'\n",
        "\n",
        "print(university)\n",
        "print(department)\n",
        "print(number)\n",
        "print(name)\n",
        "\n",
        "print(university, department, number, name)\n"
      ],
      "metadata": {
        "colab": {
          "base_uri": "https://localhost:8080/"
        },
        "id": "boK8-E4K4Ge6",
        "outputId": "90a1568b-1dcf-4e8c-9fb5-1f21232be596"
      },
      "execution_count": null,
      "outputs": [
        {
          "output_type": "stream",
          "name": "stdout",
          "text": [
            "가천대\n",
            "스마트시티융합학과\n",
            "202212345\n",
            "내 이름\n",
            "가천대 스마트시티융합학과 202212345 내 이름\n"
          ]
        }
      ]
    },
    {
      "cell_type": "code",
      "source": [
        "a = '가천대'\n",
        "b = '스마트시티융합학과'\n",
        "c = '202212345'\n",
        "d = '김영롱'\n",
        "\n",
        "print(a, b, c, d)\n",
        "\n",
        "print(a)\n",
        "print(b)\n",
        "print(c)\n",
        "print(d)"
      ],
      "metadata": {
        "colab": {
          "base_uri": "https://localhost:8080/"
        },
        "id": "JK5Np8xAICFV",
        "outputId": "d1696d19-56ac-4f03-8e9d-158a2156e6ea"
      },
      "execution_count": null,
      "outputs": [
        {
          "output_type": "stream",
          "name": "stdout",
          "text": [
            "가천대 스마트시티융합학과 202212345 김영롱\n",
            "가천대\n",
            "스마트시티융합학과\n",
            "202212345\n",
            "김영롱\n"
          ]
        }
      ]
    },
    {
      "cell_type": "code",
      "source": [
        "hashtag = '#'\n",
        "print(hashtag*5)"
      ],
      "metadata": {
        "colab": {
          "base_uri": "https://localhost:8080/"
        },
        "id": "4Ppt8OVU5mQb",
        "outputId": "35265241-7427-4c94-d5cc-eba9f0b3a844"
      },
      "execution_count": null,
      "outputs": [
        {
          "output_type": "stream",
          "name": "stdout",
          "text": [
            "#####\n"
          ]
        }
      ]
    },
    {
      "cell_type": "code",
      "source": [
        "print(hashtag*1)\n",
        "print(hashtag*2)\n",
        "print(hashtag*3)\n",
        "print(hashtag*4)\n",
        "print(hashtag*5)"
      ],
      "metadata": {
        "colab": {
          "base_uri": "https://localhost:8080/"
        },
        "id": "21YIlu1K5ucX",
        "outputId": "8a37b4d4-589a-4e5c-922a-c1c064d2d9c3"
      },
      "execution_count": null,
      "outputs": [
        {
          "output_type": "stream",
          "name": "stdout",
          "text": [
            "#\n",
            "##\n",
            "###\n",
            "####\n",
            "#####\n"
          ]
        }
      ]
    },
    {
      "cell_type": "markdown",
      "source": [
        "# Python 변수 이름 규칙\n",
        "## 알파벳(한글)으로 시작해서 숫자, 밑줄( _ ) 을 적절히 혼합\n",
        "\n",
        "- 숫자로 시작할 수 없음\n",
        "- 숫자로만 구성될 수 없음\n",
        "- Python 예약어(명령어, True/False 등) 사용할 수 없음\n",
        "- 빈칸(  ) 과 연산자(+ - * / = & ! 등) 사용할 수 없음\n",
        "\n",
        "\n",
        "# 변수 이름 짓는 스타일\n",
        "- 낙타(camel)\n",
        " - 처음 나오는 단어는 영어 소문자, 그 다음 단어는 대문자로 시작\n",
        "   - 대소문자 구분은 언어에 따라 다름. Python은 대소문자 구분\n",
        " - 변수명이 낙타 등과 같이 올록볼록하게 \n",
        " - camelVariable, gachonSmartCity\n",
        "- 파스칼(pascal)\n",
        "  - 낙타 방식에서 첫 글자를 대문자로 시작\n",
        "  - PascalVariable, GachonSmartCity\n",
        "- 뱀(snake)\n",
        " - 소문자 단어 사이를 _로 이어줌\n",
        " - 변수명이 뱀처럼 죽 이어지게\n",
        " - snake_variable, gachon_smart_city\n",
        "- 케밥(kebab)\n",
        " - 소문자 단어 사이를 -로 이어줌 (Python에서는 사용할 수 없음)\n",
        " - 케밥 꼬치처럼\n",
        " - kebab-varialbe, gachon-smart-city \n"
      ],
      "metadata": {
        "id": "u0I9cSZU5f4Q"
      }
    },
    {
      "cell_type": "markdown",
      "source": [
        "<img src='https://i.redd.it/fydmpc3ej8d31.png'>\n",
        "\n",
        "> https://www.reddit.com/r/ProgrammerHumor/comments/cjaikm/exploring_the_world_of_cases/"
      ],
      "metadata": {
        "id": "PZ5htSsTVyAA"
      }
    },
    {
      "cell_type": "markdown",
      "source": [
        "<img src='http://image.yes24.com/goods/79378905/XL'>\n",
        "\n",
        "> 김철수, 개발자의 글쓰기"
      ],
      "metadata": {
        "id": "6-ZErZlyWXyO"
      }
    },
    {
      "cell_type": "markdown",
      "source": [
        "---"
      ],
      "metadata": {
        "id": "vLky5zUr9I2J"
      }
    }
  ]
}